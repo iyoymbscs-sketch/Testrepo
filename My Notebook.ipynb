{
 "cells": [
  {
   "cell_type": "markdown",
   "metadata": {},
   "source": [
    "<center>\n",
    "    <img src=\"https://cf-courses-data.s3.us.cloud-object-storage.appdomain.cloud/IBMDeveloperSkillsNetwork-DS0105EN-SkillsNetwork/labs/Module2/images/SN_web_lightmode.png\" width=\"300\" alt=\"cognitiveclass.ai logo\">\n",
    "</center>\n"
   ]
  },
  {
   "cell_type": "markdown",
   "metadata": {},
   "source": [
    "#### Add your code below following the instructions given in the course\n"
   ]
  },
  {
   "cell_type": "markdown",
   "metadata": {},
   "source": [
    "DataScienceEcosystem.ipynb"
   ]
  },
  {
   "cell_type": "markdown",
   "metadata": {},
   "source": [
    "# H1 :Data Science Tools and Ecosystem"
   ]
  },
  {
   "cell_type": "markdown",
   "metadata": {},
   "source": [
    "In this notebook, Data Science Tools and Ecosystem are summarized."
   ]
  },
  {
   "cell_type": "markdown",
   "metadata": {
    "jp-MarkdownHeadingCollapsed": true
   },
   "source": [
    "#  Some of the popular languages that Data Scientists use are:\n",
    " \n",
    "```\n",
    "  1. Python\n",
    "  2. Java\n",
    "  3. C++\n",
    "  4. C   \n",
    "```\n",
    " "
   ]
  },
  {
   "cell_type": "markdown",
   "metadata": {},
   "source": [
    "# Some of the commonly used libraries used by Data Scientists include:\n",
    " \n",
    "```\n",
    "  1.  NumPy\n",
    "  2.  Pandas\n",
    "  3.  Matplotlib\n",
    "  4.  Seaborn\n",
    "  5.  Scikit-learn\n",
    "```"
   ]
  },
  {
   "cell_type": "markdown",
   "metadata": {},
   "source": [
    "| Data Science Tools |\n",
    "| -------------| \n",
    "| Apache Spark | \n",
    "| Tableau | \n",
    "| Python | \n",
    "| Jupyter Notebook| \n",
    "| SAS | \n",
    "| Excel | "
   ]
  },
  {
   "cell_type": "markdown",
   "metadata": {},
   "source": [
    "# H3 :Below are a few examples of evaluating arithmetic expressions in Python."
   ]
  },
  {
   "cell_type": "markdown",
   "metadata": {},
   "source": [
    "# This a simple arithmetic expression to mutiply then add integers.\n",
    "\n",
    "\n"
   ]
  },
  {
   "cell_type": "code",
   "execution_count": 8,
   "metadata": {},
   "outputs": [
    {
     "data": {
      "text/plain": [
       "17"
      ]
     },
     "execution_count": 8,
     "metadata": {},
     "output_type": "execute_result"
    }
   ],
   "source": [
    "(3*4)+5"
   ]
  },
  {
   "cell_type": "markdown",
   "metadata": {},
   "source": [
    " # This will convert 200 minutes to hours by diving by 60."
   ]
  },
  {
   "cell_type": "code",
   "execution_count": 15,
   "metadata": {},
   "outputs": [
    {
     "data": {
      "text/plain": [
       "3.3333333333333335"
      ]
     },
     "execution_count": 15,
     "metadata": {},
     "output_type": "execute_result"
    }
   ],
   "source": [
    "200/60\n"
   ]
  },
  {
   "cell_type": "markdown",
   "metadata": {},
   "source": [
    "After executing the above cell, you will find that the output <code>3.33</code> is generated on executing <code>200÷60</code>\n"
   ]
  },
  {
   "cell_type": "markdown",
   "metadata": {},
   "source": [
    "# H1: Objectives:\n",
    "* Python: Widely favored for its extensive libraries (e.g., NumPy, Pandas, Scikit-learn, TensorFlow, PyTorch) and versatility in tasks ranging from data manipulation and analysis to machine learning and deep learning.\n",
    "* R: A powerful language primarily used for statistical computing and graphics, with a rich ecosystem of packages for statistical modeling, visualization, and specialized analyses.\n",
    "* SQL (Structured Query Language): Essential for managing and querying data stored in relational databases, a fundamental skill for any data professional.\n",
    "* Julia: A high-level, high-performance language designed specifically for technical computing and numerical analysis, offering speed comparable to C/C++ while maintaining ease of use.\n",
    "\n",
    "* Scala: Often used in big data environments, particularly with Apache Spark, for its ability to handle large-scale data processing and its integration with the Java Virtual Machine (JVM).\n",
    "* Java: A general-purpose language used in data science, especially for building scalable data applications and integrating with existing enterprise systems.\n"
   ]
  },
  {
   "cell_type": "markdown",
   "metadata": {},
   "source": [
    "# H3 :Author\n",
    "            Mel jensen C. Iyoy"
   ]
  },
  {
   "cell_type": "code",
   "execution_count": null,
   "metadata": {},
   "outputs": [],
   "source": []
  }
 ],
 "metadata": {
  "kernelspec": {
   "display_name": "Python 3 (ipykernel)",
   "language": "python",
   "name": "python3"
  },
  "language_info": {
   "codemirror_mode": {
    "name": "ipython",
    "version": 3
   },
   "file_extension": ".py",
   "mimetype": "text/x-python",
   "name": "python",
   "nbconvert_exporter": "python",
   "pygments_lexer": "ipython3",
   "version": "3.12.8"
  }
 },
 "nbformat": 4,
 "nbformat_minor": 4
}
